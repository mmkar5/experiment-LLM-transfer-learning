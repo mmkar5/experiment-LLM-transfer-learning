{
  "cells": [
    {
      "cell_type": "code",
      "execution_count": 1,
      "id": "3PXhXYXV_Kd3",
      "metadata": {
        "colab": {
          "base_uri": "https://localhost:8080/"
        },
        "id": "3PXhXYXV_Kd3",
        "outputId": "ba532e62-b1a1-4a8b-f32d-c4c856680643"
      },
      "outputs": [
        {
          "name": "stdout",
          "output_type": "stream",
          "text": [
            "Requirement already satisfied: datasets in /usr/local/lib/python3.12/dist-packages (4.0.0)\n",
            "Collecting evaluate\n",
            "  Downloading evaluate-0.4.5-py3-none-any.whl.metadata (9.5 kB)\n",
            "Requirement already satisfied: transformers in /usr/local/lib/python3.12/dist-packages (4.55.2)\n",
            "Requirement already satisfied: filelock in /usr/local/lib/python3.12/dist-packages (from datasets) (3.19.1)\n",
            "Requirement already satisfied: numpy>=1.17 in /usr/local/lib/python3.12/dist-packages (from datasets) (2.0.2)\n",
            "Requirement already satisfied: pyarrow>=15.0.0 in /usr/local/lib/python3.12/dist-packages (from datasets) (18.1.0)\n",
            "Requirement already satisfied: dill<0.3.9,>=0.3.0 in /usr/local/lib/python3.12/dist-packages (from datasets) (0.3.8)\n",
            "Requirement already satisfied: pandas in /usr/local/lib/python3.12/dist-packages (from datasets) (2.2.2)\n",
            "Requirement already satisfied: requests>=2.32.2 in /usr/local/lib/python3.12/dist-packages (from datasets) (2.32.3)\n",
            "Requirement already satisfied: tqdm>=4.66.3 in /usr/local/lib/python3.12/dist-packages (from datasets) (4.67.1)\n",
            "Requirement already satisfied: xxhash in /usr/local/lib/python3.12/dist-packages (from datasets) (3.5.0)\n",
            "Requirement already satisfied: multiprocess<0.70.17 in /usr/local/lib/python3.12/dist-packages (from datasets) (0.70.16)\n",
            "Requirement already satisfied: fsspec<=2025.3.0,>=2023.1.0 in /usr/local/lib/python3.12/dist-packages (from fsspec[http]<=2025.3.0,>=2023.1.0->datasets) (2025.3.0)\n",
            "Requirement already satisfied: huggingface-hub>=0.24.0 in /usr/local/lib/python3.12/dist-packages (from datasets) (0.34.4)\n",
            "Requirement already satisfied: packaging in /usr/local/lib/python3.12/dist-packages (from datasets) (25.0)\n",
            "Requirement already satisfied: pyyaml>=5.1 in /usr/local/lib/python3.12/dist-packages (from datasets) (6.0.2)\n",
            "Requirement already satisfied: regex!=2019.12.17 in /usr/local/lib/python3.12/dist-packages (from transformers) (2024.11.6)\n",
            "Requirement already satisfied: tokenizers<0.22,>=0.21 in /usr/local/lib/python3.12/dist-packages (from transformers) (0.21.4)\n",
            "Requirement already satisfied: safetensors>=0.4.3 in /usr/local/lib/python3.12/dist-packages (from transformers) (0.6.2)\n",
            "Requirement already satisfied: aiohttp!=4.0.0a0,!=4.0.0a1 in /usr/local/lib/python3.12/dist-packages (from fsspec[http]<=2025.3.0,>=2023.1.0->datasets) (3.12.15)\n",
            "Requirement already satisfied: typing-extensions>=3.7.4.3 in /usr/local/lib/python3.12/dist-packages (from huggingface-hub>=0.24.0->datasets) (4.14.1)\n",
            "Requirement already satisfied: hf-xet<2.0.0,>=1.1.3 in /usr/local/lib/python3.12/dist-packages (from huggingface-hub>=0.24.0->datasets) (1.1.7)\n",
            "Requirement already satisfied: charset-normalizer<4,>=2 in /usr/local/lib/python3.12/dist-packages (from requests>=2.32.2->datasets) (3.4.3)\n",
            "Requirement already satisfied: idna<4,>=2.5 in /usr/local/lib/python3.12/dist-packages (from requests>=2.32.2->datasets) (3.10)\n",
            "Requirement already satisfied: urllib3<3,>=1.21.1 in /usr/local/lib/python3.12/dist-packages (from requests>=2.32.2->datasets) (2.5.0)\n",
            "Requirement already satisfied: certifi>=2017.4.17 in /usr/local/lib/python3.12/dist-packages (from requests>=2.32.2->datasets) (2025.8.3)\n",
            "Requirement already satisfied: python-dateutil>=2.8.2 in /usr/local/lib/python3.12/dist-packages (from pandas->datasets) (2.9.0.post0)\n",
            "Requirement already satisfied: pytz>=2020.1 in /usr/local/lib/python3.12/dist-packages (from pandas->datasets) (2025.2)\n",
            "Requirement already satisfied: tzdata>=2022.7 in /usr/local/lib/python3.12/dist-packages (from pandas->datasets) (2025.2)\n",
            "Requirement already satisfied: aiohappyeyeballs>=2.5.0 in /usr/local/lib/python3.12/dist-packages (from aiohttp!=4.0.0a0,!=4.0.0a1->fsspec[http]<=2025.3.0,>=2023.1.0->datasets) (2.6.1)\n",
            "Requirement already satisfied: aiosignal>=1.4.0 in /usr/local/lib/python3.12/dist-packages (from aiohttp!=4.0.0a0,!=4.0.0a1->fsspec[http]<=2025.3.0,>=2023.1.0->datasets) (1.4.0)\n",
            "Requirement already satisfied: attrs>=17.3.0 in /usr/local/lib/python3.12/dist-packages (from aiohttp!=4.0.0a0,!=4.0.0a1->fsspec[http]<=2025.3.0,>=2023.1.0->datasets) (25.3.0)\n",
            "Requirement already satisfied: frozenlist>=1.1.1 in /usr/local/lib/python3.12/dist-packages (from aiohttp!=4.0.0a0,!=4.0.0a1->fsspec[http]<=2025.3.0,>=2023.1.0->datasets) (1.7.0)\n",
            "Requirement already satisfied: multidict<7.0,>=4.5 in /usr/local/lib/python3.12/dist-packages (from aiohttp!=4.0.0a0,!=4.0.0a1->fsspec[http]<=2025.3.0,>=2023.1.0->datasets) (6.6.4)\n",
            "Requirement already satisfied: propcache>=0.2.0 in /usr/local/lib/python3.12/dist-packages (from aiohttp!=4.0.0a0,!=4.0.0a1->fsspec[http]<=2025.3.0,>=2023.1.0->datasets) (0.3.2)\n",
            "Requirement already satisfied: yarl<2.0,>=1.17.0 in /usr/local/lib/python3.12/dist-packages (from aiohttp!=4.0.0a0,!=4.0.0a1->fsspec[http]<=2025.3.0,>=2023.1.0->datasets) (1.20.1)\n",
            "Requirement already satisfied: six>=1.5 in /usr/local/lib/python3.12/dist-packages (from python-dateutil>=2.8.2->pandas->datasets) (1.17.0)\n",
            "Downloading evaluate-0.4.5-py3-none-any.whl (84 kB)\n",
            "\u001b[2K   \u001b[90m━━━━━━━━━━━━━━━━━━━━━━━━━━━━━━━━━━━━━━━━\u001b[0m \u001b[32m84.1/84.1 kB\u001b[0m \u001b[31m5.8 MB/s\u001b[0m eta \u001b[36m0:00:00\u001b[0m\n",
            "\u001b[?25hInstalling collected packages: evaluate\n",
            "Successfully installed evaluate-0.4.5\n",
            "Requirement already satisfied: datasets in /usr/local/lib/python3.12/dist-packages (4.0.0)\n",
            "Requirement already satisfied: huggingface_hub in /usr/local/lib/python3.12/dist-packages (0.34.4)\n",
            "Requirement already satisfied: fsspec in /usr/local/lib/python3.12/dist-packages (2025.3.0)\n",
            "Collecting fsspec\n",
            "  Downloading fsspec-2025.7.0-py3-none-any.whl.metadata (12 kB)\n",
            "Requirement already satisfied: filelock in /usr/local/lib/python3.12/dist-packages (from datasets) (3.19.1)\n",
            "Requirement already satisfied: numpy>=1.17 in /usr/local/lib/python3.12/dist-packages (from datasets) (2.0.2)\n",
            "Requirement already satisfied: pyarrow>=15.0.0 in /usr/local/lib/python3.12/dist-packages (from datasets) (18.1.0)\n",
            "Requirement already satisfied: dill<0.3.9,>=0.3.0 in /usr/local/lib/python3.12/dist-packages (from datasets) (0.3.8)\n",
            "Requirement already satisfied: pandas in /usr/local/lib/python3.12/dist-packages (from datasets) (2.2.2)\n",
            "Requirement already satisfied: requests>=2.32.2 in /usr/local/lib/python3.12/dist-packages (from datasets) (2.32.3)\n",
            "Requirement already satisfied: tqdm>=4.66.3 in /usr/local/lib/python3.12/dist-packages (from datasets) (4.67.1)\n",
            "Requirement already satisfied: xxhash in /usr/local/lib/python3.12/dist-packages (from datasets) (3.5.0)\n",
            "Requirement already satisfied: multiprocess<0.70.17 in /usr/local/lib/python3.12/dist-packages (from datasets) (0.70.16)\n",
            "Requirement already satisfied: packaging in /usr/local/lib/python3.12/dist-packages (from datasets) (25.0)\n",
            "Requirement already satisfied: pyyaml>=5.1 in /usr/local/lib/python3.12/dist-packages (from datasets) (6.0.2)\n",
            "Requirement already satisfied: typing-extensions>=3.7.4.3 in /usr/local/lib/python3.12/dist-packages (from huggingface_hub) (4.14.1)\n",
            "Requirement already satisfied: hf-xet<2.0.0,>=1.1.3 in /usr/local/lib/python3.12/dist-packages (from huggingface_hub) (1.1.7)\n",
            "Requirement already satisfied: aiohttp!=4.0.0a0,!=4.0.0a1 in /usr/local/lib/python3.12/dist-packages (from fsspec[http]<=2025.3.0,>=2023.1.0->datasets) (3.12.15)\n",
            "Requirement already satisfied: charset-normalizer<4,>=2 in /usr/local/lib/python3.12/dist-packages (from requests>=2.32.2->datasets) (3.4.3)\n",
            "Requirement already satisfied: idna<4,>=2.5 in /usr/local/lib/python3.12/dist-packages (from requests>=2.32.2->datasets) (3.10)\n",
            "Requirement already satisfied: urllib3<3,>=1.21.1 in /usr/local/lib/python3.12/dist-packages (from requests>=2.32.2->datasets) (2.5.0)\n",
            "Requirement already satisfied: certifi>=2017.4.17 in /usr/local/lib/python3.12/dist-packages (from requests>=2.32.2->datasets) (2025.8.3)\n",
            "Requirement already satisfied: python-dateutil>=2.8.2 in /usr/local/lib/python3.12/dist-packages (from pandas->datasets) (2.9.0.post0)\n",
            "Requirement already satisfied: pytz>=2020.1 in /usr/local/lib/python3.12/dist-packages (from pandas->datasets) (2025.2)\n",
            "Requirement already satisfied: tzdata>=2022.7 in /usr/local/lib/python3.12/dist-packages (from pandas->datasets) (2025.2)\n",
            "Requirement already satisfied: aiohappyeyeballs>=2.5.0 in /usr/local/lib/python3.12/dist-packages (from aiohttp!=4.0.0a0,!=4.0.0a1->fsspec[http]<=2025.3.0,>=2023.1.0->datasets) (2.6.1)\n",
            "Requirement already satisfied: aiosignal>=1.4.0 in /usr/local/lib/python3.12/dist-packages (from aiohttp!=4.0.0a0,!=4.0.0a1->fsspec[http]<=2025.3.0,>=2023.1.0->datasets) (1.4.0)\n",
            "Requirement already satisfied: attrs>=17.3.0 in /usr/local/lib/python3.12/dist-packages (from aiohttp!=4.0.0a0,!=4.0.0a1->fsspec[http]<=2025.3.0,>=2023.1.0->datasets) (25.3.0)\n",
            "Requirement already satisfied: frozenlist>=1.1.1 in /usr/local/lib/python3.12/dist-packages (from aiohttp!=4.0.0a0,!=4.0.0a1->fsspec[http]<=2025.3.0,>=2023.1.0->datasets) (1.7.0)\n",
            "Requirement already satisfied: multidict<7.0,>=4.5 in /usr/local/lib/python3.12/dist-packages (from aiohttp!=4.0.0a0,!=4.0.0a1->fsspec[http]<=2025.3.0,>=2023.1.0->datasets) (6.6.4)\n",
            "Requirement already satisfied: propcache>=0.2.0 in /usr/local/lib/python3.12/dist-packages (from aiohttp!=4.0.0a0,!=4.0.0a1->fsspec[http]<=2025.3.0,>=2023.1.0->datasets) (0.3.2)\n",
            "Requirement already satisfied: yarl<2.0,>=1.17.0 in /usr/local/lib/python3.12/dist-packages (from aiohttp!=4.0.0a0,!=4.0.0a1->fsspec[http]<=2025.3.0,>=2023.1.0->datasets) (1.20.1)\n",
            "Requirement already satisfied: six>=1.5 in /usr/local/lib/python3.12/dist-packages (from python-dateutil>=2.8.2->pandas->datasets) (1.17.0)\n"
          ]
        }
      ],
      "source": [
        "!pip install datasets evaluate transformers\n",
        "!pip install -U datasets huggingface_hub fsspec"
      ]
    },
    {
      "cell_type": "code",
      "execution_count": 2,
      "id": "a3915bc8",
      "metadata": {
        "id": "a3915bc8"
      },
      "outputs": [],
      "source": [
        "import pandas as pd\n",
        "import torch\n",
        "from transformers import AutoModelForSequenceClassification, AutoTokenizer\n",
        "import evaluate\n",
        "from matplotlib import pyplot as plt\n",
        "import seaborn as sns"
      ]
    },
    {
      "cell_type": "code",
      "execution_count": 3,
      "id": "40f1bc2b",
      "metadata": {
        "id": "40f1bc2b"
      },
      "outputs": [],
      "source": [
        "# Read a FASTA file and return a list of sequences.\n",
        "\n",
        "def read_fasta(file_path):\n",
        "    sequences=[]\n",
        "    current_sequence=[]\n",
        "    with open(file_path,\"r\") as file:\n",
        "        for line in file:\n",
        "            if line.startswith(\">\"):\n",
        "                if current_sequence:\n",
        "                    sequences.append(''.join(current_sequence))\n",
        "                    current_sequence=[]\n",
        "            else:\n",
        "                current_sequence.append(line.strip())\n",
        "        if current_sequence:\n",
        "            sequences.append(''.join(current_sequence))\n",
        "    return sequences"
      ]
    },
    {
      "cell_type": "code",
      "execution_count": 16,
      "id": "3bd4d41e",
      "metadata": {
        "colab": {
          "base_uri": "https://localhost:8080/"
        },
        "id": "3bd4d41e",
        "outputId": "c10761e9-97a0-4911-bc77-517ca53f9475"
      },
      "outputs": [
        {
          "name": "stdout",
          "output_type": "stream",
          "text": [
            "mobidb_do:\n",
            "count    14487.000000\n",
            "mean        42.480155\n",
            "std         88.555779\n",
            "min         10.000000\n",
            "25%         12.000000\n",
            "50%         17.000000\n",
            "75%         35.000000\n",
            "max       3768.000000\n",
            "Name: length, dtype: float64\n",
            "mobidb_dd:\n",
            "count    26074.000000\n",
            "mean        46.319821\n",
            "std         99.460106\n",
            "min         10.000000\n",
            "25%         14.000000\n",
            "50%         22.000000\n",
            "75%         42.000000\n",
            "max       3421.000000\n",
            "Name: length, dtype: float64\n",
            "Number of removed sequences: 53\n",
            "Unique sequences count: 39475\n"
          ]
        }
      ],
      "source": [
        "## Using all the sequences from the two datasets, without clustering based on sequence similarity.\n",
        "\n",
        "# Read the sequences from the FASTA files and create DataFrames for each dataset\n",
        "\n",
        "sequences_do = read_fasta(\"processed_fasta_files/mobidb_do.fasta\")\n",
        "sequences_dd = read_fasta(\"processed_fasta_files/mobidb_dd.fasta\")\n",
        "\n",
        "\n",
        "df_do = pd.DataFrame(sequences_do, columns=[\"sequence\"])\n",
        "df_do[\"label\"] = 0\n",
        "df_dd = pd.DataFrame(sequences_dd, columns=[\"sequence\"])\n",
        "df_dd[\"label\"] = 1\n",
        "\n",
        "# Calculate the length of each sequence and add it as a new column\n",
        "\n",
        "df_do[\"length\"] = df_do[\"sequence\"].apply(len)\n",
        "df_dd[\"length\"] = df_dd[\"sequence\"].apply(len)\n",
        "\n",
        "print(\"mobidb_do:\",df_do[\"length\"].describe(), sep=\"\\n\")\n",
        "print(\"mobidb_dd:\",df_dd[\"length\"].describe(), sep=\"\\n\")\n",
        "\n",
        "# Concatenate the DataFrames\n",
        "\n",
        "df_all = pd.concat([df_do, df_dd], ignore_index=True)\n",
        "\n",
        "# Filter out sequences longer than 1000 characters\n",
        "\n",
        "print(\"Number of removed sequences:\" ,df_all[df_all[\"length\"] > 1000][\"sequence\"].count())\n",
        "df_all = df_all[df_all[\"length\"] < 1001]\n",
        "\n",
        "# Remove all sequences that are repeated more than once\n",
        "\n",
        "sequence_counts = df_all[\"sequence\"].value_counts()\n",
        "unique_sequences = sequence_counts[sequence_counts == 1].index\n",
        "df_unique = df_all[df_all[\"sequence\"].isin(unique_sequences)].reset_index(drop=True)\n",
        "print(\"Unique sequences count:\", df_unique.shape[0])"
      ]
    },
    {
      "cell_type": "code",
      "execution_count": null,
      "id": "3e1a1ba1",
      "metadata": {
        "colab": {
          "base_uri": "https://localhost:8080/"
        },
        "id": "3e1a1ba1",
        "outputId": "12830efd-5fda-40cf-c910-7af6f211d0e3"
      },
      "outputs": [
        {
          "name": "stderr",
          "output_type": "stream",
          "text": [
            "Some weights of EsmForSequenceClassification were not initialized from the model checkpoint at facebook/esm2_t12_35M_UR50D and are newly initialized: ['classifier.dense.bias', 'classifier.dense.weight', 'classifier.out_proj.bias', 'classifier.out_proj.weight']\n",
            "You should probably TRAIN this model on a down-stream task to be able to use it for predictions and inference.\n",
            "Processing batches: 100%|██████████| 2532/2532 [05:09<00:00,  8.18it/s]\n"
          ]
        }
      ],
      "source": [
        "# Load the model and tokenizer, and make predictions on the sequences\n",
        "\n",
        "device = torch.device(\"cuda\" if torch.cuda.is_available() else \"cpu\")\n",
        "model = AutoModelForSequenceClassification.from_pretrained(\"PLM_Sequence_LORA_Outputs/my_model_dir\").to(device)\n",
        "tokenizer = AutoTokenizer.from_pretrained(\"PLM_Sequence_LORA_Outputs/tokenizer_dir\")\n",
        "\n",
        "batch_size = 16\n",
        "sequences = df_all[\"sequence\"].tolist()\n",
        "predicted_class_ids = []\n",
        "\n",
        "from tqdm import tqdm\n",
        "\n",
        "for i in tqdm(range(0, len(sequences), batch_size), desc=\"Processing batches\"):\n",
        "    batch = sequences[i:i+batch_size]\n",
        "    inputs = tokenizer(batch, return_tensors=\"pt\", padding=True, truncation=True, max_length=512)\n",
        "    # Move input tensors to GPU\n",
        "    inputs = {k: v.to(device) for k, v in inputs.items()}\n",
        "    with torch.no_grad():\n",
        "        outputs = model(**inputs)\n",
        "    logits = outputs.logits\n",
        "    batch_predicted = torch.argmax(logits, dim=1).tolist()\n",
        "    predicted_class_ids.extend(batch_predicted)\n",
        "\n",
        "df_all['predicted_label'] = predicted_class_ids"
      ]
    },
    {
      "cell_type": "code",
      "execution_count": 18,
      "id": "6deacf81",
      "metadata": {
        "colab": {
          "base_uri": "https://localhost:8080/",
          "height": 676
        },
        "id": "6deacf81",
        "outputId": "5ac6faa0-9416-44f3-e7ea-8489aee1b2a3"
      },
      "outputs": [
        {
          "data": {
            "image/png": "[encoded data removed]",
            "text/plain": [
              "<Figure size 1000x800 with 2 Axes>"
            ]
          },
          "metadata": {},
          "output_type": "display_data"
        }
      ],
      "source": [
        "# Calculate and visualize the confusion matrix\n",
        "\n",
        "confusion_matrix = evaluate.load(\"confusion_matrix\")\n",
        "results = confusion_matrix.compute(\n",
        "    predictions = df_all[\"predicted_label\"].tolist(),\n",
        "    references = df_all[\"label\"].tolist()\n",
        ")\n",
        "\n",
        "plt.figure(figsize=(10, 8))\n",
        "sns.heatmap(results[\"confusion_matrix\"], annot=True, fmt=\"d\", cmap=\"Blues\", xticklabels=[\"DD\", \"DO\"], yticklabels=[\"DD\", \"DO\"]);"
      ]
    },
    {
      "cell_type": "code",
      "execution_count": 21,
      "id": "28032bf4",
      "metadata": {
        "id": "28032bf4"
      },
      "outputs": [],
      "source": [
        "# Calculate F1, Precision, and Recall scores\n",
        "f1_metric = evaluate.load(\"f1\")\n",
        "precision_metric = evaluate.load(\"precision\")\n",
        "recall_metric = evaluate.load(\"recall\")\n",
        "f1_score = f1_metric.compute(\n",
        "    predictions=df_all[\"predicted_label\"].tolist(),\n",
        "    references=df_all[\"label\"].tolist(),\n",
        "    average=\"weighted\"\n",
        ")\n",
        "precision_score = precision_metric.compute(\n",
        "    predictions=df_all[\"predicted_label\"].tolist(),\n",
        "    references=df_all[\"label\"].tolist(),\n",
        "    average=\"weighted\"\n",
        ")\n",
        "recall_score = recall_metric.compute(\n",
        "    predictions=df_all[\"predicted_label\"].tolist(),\n",
        "    references=df_all[\"label\"].tolist(),\n",
        "    average=\"weighted\"\n",
        ")"
      ]
    },
    {
      "cell_type": "code",
      "execution_count": 22,
      "id": "69bf9e73",
      "metadata": {
        "colab": {
          "base_uri": "https://localhost:8080/"
        },
        "id": "69bf9e73",
        "outputId": "a1020a4e-0f73-4788-8cb5-b6c97f69d16d"
      },
      "outputs": [
        {
          "name": "stdout",
          "output_type": "stream",
          "text": [
            "F1 Score: 0.7329\n",
            "Precision: 0.7527\n",
            "Recall: 0.7277\n"
          ]
        }
      ],
      "source": [
        "# Print the validation scores\n",
        "print(f\"F1 Score: {f1_score['f1']:.4f}\")\n",
        "print(f\"Precision: {precision_score['precision']:.4f}\")\n",
        "print(f\"Recall: {recall_score['recall']:.4f}\")"
      ]
    }
  ],
  "metadata": {
    "accelerator": "GPU",
    "colab": {
      "gpuType": "T4",
      "provenance": []
    },
    "kernelspec": {
      "display_name": "Python 3",
      "name": "python3"
    },
    "language_info": {
      "codemirror_mode": {
        "name": "ipython",
        "version": 3
      },
      "file_extension": ".py",
      "mimetype": "text/x-python",
      "name": "python",
      "nbconvert_exporter": "python",
      "pygments_lexer": "ipython3",
      "version": "3.12.1"
    }
  },
  "nbformat": 4,
  "nbformat_minor": 5
}
