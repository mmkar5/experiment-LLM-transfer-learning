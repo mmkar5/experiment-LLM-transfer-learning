{
 "cells": [
  {
   "cell_type": "code",
   "execution_count": 1,
   "id": "34c21711",
   "metadata": {},
   "outputs": [],
   "source": [
    "import re"
   ]
  },
  {
   "cell_type": "code",
   "execution_count": 2,
   "id": "4d2a9eac",
   "metadata": {},
   "outputs": [],
   "source": [
    "# Extracting the sequence with the coreesponding residue scores for only the condition of interest from the fasta file.\n",
    "\n",
    "#pattern_disorder_disorder = r\"\\|derived-binding_mode_disorder_to_disorder-mobi\"\n",
    "#pattern_disorder_order = r\"\\|derived-binding_mode_disorder_to_order-mobi\"\n",
    "\n",
    "def write_transition_sate_from_fasta(input_file, output_file, pattern_sequence=r\"\\|sequence\\|\", pattern_transition=r\"\\|derived-binding_mode_disorder_to_disorder-mobi\"):\n",
    "    '''\n",
    "    Extracts sequences and their transition states from a FASTA file.\n",
    "\n",
    "    Args:\n",
    "        input_file (str): Path to the input FASTA file.\n",
    "        output_file (str): Path to the output file.\n",
    "        pattern_sequence (str): Regex pattern to identify sequence headers.\n",
    "        pattern_transition (str): Regex pattern to identify transition state headers.\n",
    "    '''\n",
    "    with open(input_file, \"r\") as infile, open(output_file, \"w\") as outfile:\n",
    "        id = None\n",
    "        prev_line = None\n",
    "        for line in infile:\n",
    "            if re.search(pattern_sequence, line):\n",
    "                outfile.write(line.strip() + \"\\n\")\n",
    "                id = line.strip().split(\"|\")[0]\n",
    "                prev_line = line\n",
    "                next_line = next(infile, None)\n",
    "                if next_line:\n",
    "                    outfile.write(next_line.strip() + \"\\n\")\n",
    "                continue\n",
    "            if id and re.search(re.escape(id) + pattern_transition, line):\n",
    "                outfile.write(line.strip() + \"\\n\")\n",
    "                next_line = next(infile, None)\n",
    "                if next_line:\n",
    "                    outfile.write(next_line.strip() + \"\\n\")"
   ]
  },
  {
   "cell_type": "code",
   "execution_count": 3,
   "id": "2a6feb17",
   "metadata": {},
   "outputs": [],
   "source": [
    "# Based on the residue scores of 1, the residues forming a strech was extracted as a seperate sequence from a fasta file.\n",
    "\n",
    "def find_transition_regions_from_fasta(input_file, output_file,transition_state=\"Disorder-Disorder\"):\n",
    "    '''\n",
    "    Identifies and extracts transition regions from a FASTA file containing sequences and scores.\n",
    "\n",
    "    Args:\n",
    "        input_file (str): Path to the input FASTA file.\n",
    "        output_file (str): Path to the output file to write the regions.\n",
    "        transition_state (str): The type of transition state to label the regions.\n",
    "    '''\n",
    "    score=None\n",
    "    sequence=None\n",
    "    id=None\n",
    "    with open(input_file,\"r\") as file, open(output_file, \"w\") as output:\n",
    "        for line in file:\n",
    "            if not line.startswith(\">\"):\n",
    "                # Check if the line is a sequence or a score\n",
    "                if not line.startswith(\"0\") and not line.startswith(\"1\"):\n",
    "                    sequence=line.strip()\n",
    "                    score=None\n",
    "                else:\n",
    "                    score=line.strip()\n",
    "                # If we have a sequence, score, and ID, process them\n",
    "                if score and sequence and id:\n",
    "                    result=\"\".join(sequence[i] if score[i] == \"1\" else \" \" for i in range(len(sequence)))\n",
    "                    results=result.split()\n",
    "                    for i,r in enumerate(results):\n",
    "                        output.write(id+\" \"+transition_state+\"_\"+str(i+1)+\"\\n\")\n",
    "                        output.write(r+\"\\n\")\n",
    "            else:\n",
    "                # If the line is a header, extract the ID\n",
    "                if \"sequence\" in line:\n",
    "                    id=line.strip()"
   ]
  },
  {
   "cell_type": "code",
   "execution_count": 4,
   "id": "0790d075",
   "metadata": {},
   "outputs": [],
   "source": [
    "# Define file paths for MobiDB datasets\n",
    "mobidb_dd = \"mobidb_search_2025-07-09T19-37-03_DD.fasta\"\n",
    "mobidb_do = \"mobidb_search_2025-07-09T19-39-02_DO.fasta\"\n",
    "\n",
    "# Define regex patterns for sequence and transition state headers\n",
    "pattern_sequence = r\"\\|sequence\\|\"\n",
    "pattern_disorder_disorder = r\"\\|derived-binding_mode_disorder_to_disorder-mobi\"\n",
    "pattern_disorder_order = r\"\\|derived-binding_mode_disorder_to_order-mobi\"\n",
    "\n",
    "# Process the Disorder-Disorder dataset\n",
    "write_transition_sate_from_fasta(mobidb_dd, \"transition_mobidb_dd.fasta\", pattern_sequence=pattern_sequence, pattern_transition=pattern_disorder_disorder)\n",
    "find_transition_regions_from_fasta(\"transition_mobidb_dd.fasta\", \"mobidb_dd.fasta\", transition_state=\"Disorder-Disorder\")\n",
    "\n",
    "# Process the Disorder-Order dataset\n",
    "write_transition_sate_from_fasta(mobidb_do, \"transition_mobidb_do.fasta\", pattern_sequence=pattern_sequence, pattern_transition=pattern_disorder_order)\n",
    "find_transition_regions_from_fasta(\"transition_mobidb_do.fasta\", \"mobidb_do.fasta\", transition_state=\"Disorder-Order\")"
   ]
  }
 ],
 "metadata": {
  "kernelspec": {
   "display_name": "Python 3",
   "language": "python",
   "name": "python3"
  },
  "language_info": {
   "codemirror_mode": {
    "name": "ipython",
    "version": 3
   },
   "file_extension": ".py",
   "mimetype": "text/x-python",
   "name": "python",
   "nbconvert_exporter": "python",
   "pygments_lexer": "ipython3",
   "version": "3.12.1"
  }
 },
 "nbformat": 4,
 "nbformat_minor": 5
}
