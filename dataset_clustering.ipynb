{
  "nbformat": 4,
  "nbformat_minor": 0,
  "metadata": {
    "colab": {
      "provenance": []
    },
    "kernelspec": {
      "name": "python3",
      "display_name": "Python 3"
    },
    "language_info": {
      "name": "python"
    }
  },
  "cells": [
    {
      "cell_type": "code",
      "execution_count": 1,
      "metadata": {
        "colab": {
          "base_uri": "https://localhost:8080/"
        },
        "id": "3M_WE_IJGwtk",
        "outputId": "870a969e-483a-42a1-a61e-b90f644985a3"
      },
      "outputs": [
        {
          "output_type": "stream",
          "name": "stdout",
          "text": [
            "Reading package lists... Done\n",
            "Building dependency tree... Done\n",
            "Reading state information... Done\n",
            "The following NEW packages will be installed:\n",
            "  cd-hit\n",
            "0 upgraded, 1 newly installed, 0 to remove and 35 not upgraded.\n",
            "Need to get 521 kB of archives.\n",
            "After this operation, 1,082 kB of additional disk space will be used.\n",
            "Get:1 http://archive.ubuntu.com/ubuntu jammy/universe amd64 cd-hit amd64 4.8.1-4 [521 kB]\n",
            "Fetched 521 kB in 1s (801 kB/s)\n",
            "Selecting previously unselected package cd-hit.\n",
            "(Reading database ... 126284 files and directories currently installed.)\n",
            "Preparing to unpack .../cd-hit_4.8.1-4_amd64.deb ...\n",
            "Unpacking cd-hit (4.8.1-4) ...\n",
            "Setting up cd-hit (4.8.1-4) ...\n",
            "Processing triggers for man-db (2.10.2-1) ...\n"
          ]
        }
      ],
      "source": [
        "!apt install cd-hit"
      ]
    },
    {
      "cell_type": "code",
      "source": [
        "!cat dibs.fasta mfib.fasta > do_transition.fasta\n",
        "!mv fuzdb.fasta dd_transition.fasta"
      ],
      "metadata": {
        "id": "9y3qp-ioJPd8"
      },
      "execution_count": null,
      "outputs": []
    },
    {
      "cell_type": "code",
      "source": [
        "!cd-hit -i do_transition.fasta -o do_transition_cdhit.fasta -c 0.7\n",
        "!cd-hit -i dd_transition.fasta -o dd_transition_cdhit.fasta -c 0.7"
      ],
      "metadata": {
        "colab": {
          "base_uri": "https://localhost:8080/"
        },
        "id": "6h43n-uIKf2H",
        "outputId": "e884a822-f026-4bf2-e4a4-909ac9b13658"
      },
      "execution_count": null,
      "outputs": [
        {
          "output_type": "stream",
          "name": "stdout",
          "text": [
            "================================================================\n",
            "Program: CD-HIT, V4.8.1 (+OpenMP), Aug 20 2021, 08:39:56\n",
            "Command: cd-hit -i do_transition.fasta -o\n",
            "         do_transition_cdhit.fasta -c 0.7\n",
            "\n",
            "Started: Wed Jul 23 16:43:14 2025\n",
            "================================================================\n",
            "                            Output                              \n",
            "----------------------------------------------------------------\n",
            "total seq: 1119\n",
            "longest and shortest : 630 and 11\n",
            "Total letters: 62060\n",
            "Sequences have been sorted\n",
            "\n",
            "Approximated minimal memory consumption:\n",
            "Sequence        : 0M\n",
            "Buffer          : 1 X 10M = 10M\n",
            "Table           : 1 X 65M = 65M\n",
            "Miscellaneous   : 0M\n",
            "Total           : 76M\n",
            "\n",
            "Table limit with the given memory limit:\n",
            "Max number of representatives: 3857495\n",
            "Max number of word counting entries: 90472730\n",
            "\n",
            "\rcomparing sequences from          0  to       1119\n",
            ".\n",
            "     1119  finished        614  clusters\n",
            "\n",
            "Approximated maximum memory consumption: 76M\n",
            "writing new database\n",
            "writing clustering information\n",
            "program completed !\n",
            "\n",
            "Total CPU time 0.08\n",
            "================================================================\n",
            "Program: CD-HIT, V4.8.1 (+OpenMP), Aug 20 2021, 08:39:56\n",
            "Command: cd-hit -i dd_transition.fasta -o\n",
            "         dd_transition_cdhit.fasta -c 0.7\n",
            "\n",
            "Started: Wed Jul 23 16:43:14 2025\n",
            "================================================================\n",
            "                            Output                              \n",
            "----------------------------------------------------------------\n",
            "total seq: 455\n",
            "longest and shortest : 4953 and 30\n",
            "Total letters: 257136\n",
            "Sequences have been sorted\n",
            "\n",
            "Approximated minimal memory consumption:\n",
            "Sequence        : 0M\n",
            "Buffer          : 1 X 11M = 11M\n",
            "Table           : 1 X 65M = 65M\n",
            "Miscellaneous   : 0M\n",
            "Total           : 77M\n",
            "\n",
            "Table limit with the given memory limit:\n",
            "Max number of representatives: 752146\n",
            "Max number of word counting entries: 90347148\n",
            "\n",
            "comparing sequences from          0  to        455\n",
            "\n",
            "      455  finished        316  clusters\n",
            "\n",
            "Approximated maximum memory consumption: 78M\n",
            "writing new database\n",
            "writing clustering information\n",
            "program completed !\n",
            "\n",
            "Total CPU time 0.14\n"
          ]
        }
      ]
    },
    {
      "cell_type": "code",
      "source": [
        "!cd-hit -i mobidb_do.fasta -o mobidb_do_cdhit.fasta -c 0.7\n",
        "!cd-hit -i mobidb_dd.fasta -o mobidb_dd_cdhit.fasta -c 0.7"
      ],
      "metadata": {
        "colab": {
          "base_uri": "https://localhost:8080/"
        },
        "id": "crdvCGBqfcY8",
        "outputId": "43664009-f497-444a-c64a-12ec7c447609"
      },
      "execution_count": 2,
      "outputs": [
        {
          "output_type": "stream",
          "name": "stdout",
          "text": [
            "================================================================\n",
            "Program: CD-HIT, V4.8.1 (+OpenMP), Aug 20 2021, 08:39:56\n",
            "Command: cd-hit -i mobidb_do.fasta -o mobidb_do_cdhit.fasta -c\n",
            "         0.7\n",
            "\n",
            "Started: Thu Jul 24 08:15:39 2025\n",
            "================================================================\n",
            "                            Output                              \n",
            "----------------------------------------------------------------\n",
            "total seq: 12850\n",
            "longest and shortest : 3768 and 11\n",
            "Total letters: 599040\n",
            "Sequences have been sorted\n",
            "\n",
            "Approximated minimal memory consumption:\n",
            "Sequence        : 2M\n",
            "Buffer          : 1 X 11M = 11M\n",
            "Table           : 1 X 65M = 65M\n",
            "Miscellaneous   : 0M\n",
            "Total           : 79M\n",
            "\n",
            "Table limit with the given memory limit:\n",
            "Max number of representatives: 3467890\n",
            "Max number of word counting entries: 90064587\n",
            "\n",
            "comparing sequences from          0  to      12850\n",
            "..........    10000  finished       9174  clusters\n",
            "..\n",
            "    12850  finished      11673  clusters\n",
            "\n",
            "Approximated maximum memory consumption: 83M\n",
            "writing new database\n",
            "writing clustering information\n",
            "program completed !\n",
            "\n",
            "Total CPU time 0.33\n",
            "================================================================\n",
            "Program: CD-HIT, V4.8.1 (+OpenMP), Aug 20 2021, 08:39:56\n",
            "Command: cd-hit -i mobidb_dd.fasta -o mobidb_dd_cdhit.fasta -c\n",
            "         0.7\n",
            "\n",
            "Started: Thu Jul 24 08:15:39 2025\n",
            "================================================================\n",
            "                            Output                              \n",
            "----------------------------------------------------------------\n",
            "total seq: 24185\n",
            "longest and shortest : 3421 and 11\n",
            "Total letters: 1188853\n",
            "Sequences have been sorted\n",
            "\n",
            "Approximated minimal memory consumption:\n",
            "Sequence        : 4M\n",
            "Buffer          : 1 X 11M = 11M\n",
            "Table           : 1 X 65M = 65M\n",
            "Miscellaneous   : 0M\n",
            "Total           : 81M\n",
            "\n",
            "Table limit with the given memory limit:\n",
            "Max number of representatives: 3731591\n",
            "Max number of word counting entries: 89754567\n",
            "\n",
            "comparing sequences from          0  to      24185\n",
            "..........    10000  finished       9059  clusters\n",
            "..........    20000  finished      17785  clusters\n",
            "....\n",
            "    24185  finished      21059  clusters\n",
            "\n",
            "Approximated maximum memory consumption: 89M\n",
            "writing new database\n",
            "writing clustering information\n",
            "program completed !\n",
            "\n",
            "Total CPU time 0.97\n"
          ]
        }
      ]
    }
  ]
}